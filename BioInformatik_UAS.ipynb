{
  "nbformat": 4,
  "nbformat_minor": 0,
  "metadata": {
    "colab": {
      "provenance": [],
      "authorship_tag": "ABX9TyM3r96mskKJt7tiHvbnc4JG",
      "include_colab_link": true
    },
    "kernelspec": {
      "name": "python3",
      "display_name": "Python 3"
    },
    "language_info": {
      "name": "python"
    }
  },
  "cells": [
    {
      "cell_type": "markdown",
      "metadata": {
        "id": "view-in-github",
        "colab_type": "text"
      },
      "source": [
        "<a href=\"https://colab.research.google.com/github/Alamsyah-WM/Predict-DNA-binding-protein-with-ML-and-DL/blob/main/BioInformatik_UAS.ipynb\" target=\"_parent\"><img src=\"https://colab.research.google.com/assets/colab-badge.svg\" alt=\"Open In Colab\"/></a>"
      ]
    },
    {
      "cell_type": "markdown",
      "source": [
        "##Import Library"
      ],
      "metadata": {
        "id": "eTWm9RsRvlKq"
      }
    },
    {
      "cell_type": "code",
      "source": [
        "import pandas as pd  # For data manipulation\n",
        "import numpy as np   # For numerical operations\n",
        "import matplotlib.pyplot as plt  # For plotting\n",
        "import seaborn as sns  # For advanced plotting\n",
        "from sklearn.model_selection import train_test_split  # For splitting datasets\n",
        "from sklearn.preprocessing import StandardScaler  # For scaling features"
      ],
      "metadata": {
        "id": "eV20CSNehpXq"
      },
      "execution_count": 29,
      "outputs": []
    },
    {
      "cell_type": "markdown",
      "source": [
        "##Define Dataset"
      ],
      "metadata": {
        "id": "wyrZuv_P1Gy6"
      }
    },
    {
      "cell_type": "code",
      "source": [
        "pdb = pd.read_csv('/content/PDB1063-186.csv')\n",
        "uniswiss = pd.read_csv('/content/UniSwiss.csv')\n",
        "\n",
        "print(\"Raw PDB Dataset:\")\n",
        "print(pdb.head())\n",
        "\n",
        "print(\"\\nRaw UniSwiss Dataset:\")\n",
        "print(uniswiss.head())"
      ],
      "metadata": {
        "colab": {
          "base_uri": "https://localhost:8080/"
        },
        "id": "AXSYtCVG1Lqi",
        "outputId": "6c7e3b86-a260-44de-f08d-070369c071f5"
      },
      "execution_count": 34,
      "outputs": [
        {
          "output_type": "stream",
          "name": "stdout",
          "text": [
            "Raw PDB Dataset:\n",
            "  identifier                                           sequence  label    set\n",
            "0      1AKHB  TKPYRGHRFTKENVRILESWFAKNIENPYLDTKGLENLMKNTSLSR...      1  train\n",
            "1      1B6WA  MELPIAPIGRIIKDAGAERVSDDARITLAKILEEMGRDIASEAIKL...      1  train\n",
            "2      1C1KA  MIKLRMPAGGERYIDGKSVYKLYLMIKQHMNGKYDVIKYNWCMRVS...      1  train\n",
            "3      1C6VX  QQSKNSKFKNFRVYYREGRDQLWKGPGELLWKGEGAVLLKVGTDIK...      1  train\n",
            "4      1C6VD  IHGQVNSDLGTWQMDCTHLEGKIVIVAVHVASGFIEAEVIPQETGR...      1  train\n",
            "\n",
            "Raw UniSwiss Dataset:\n",
            "   identifier                                           sequence  label    set\n",
            "0      P08956  MMNKSNFEFLKGVNDFTYAIACAAENNYPDDPNTTLIKMRMFGEAT...      1  train\n",
            "1      P27235  MPPQRSRRRKRASATQLYQTCKASGTCPPDVIPKVEGTTLADKILQ...      1  train\n",
            "2      P0AD01  MINVLIIDDDAMVAELNRRYVAQIPGFQCCGTASTLEKAKEIIFNS...      1  train\n",
            "3  A0A024B7I0  MAYMCADSGNLMAIAQQVIKQKQQQEQQQQQSHHPQQQFLGLNPFS...      1  train\n",
            "4      F4I443  MAEFTNMLMNPWVLHLQKLELELKCPLCLKLLNRPVLLPCDHVFCD...      1  train\n"
          ]
        }
      ]
    },
    {
      "cell_type": "markdown",
      "source": [
        "#**Exploraty Data Analysis**\n",
        "##Objective\n",
        "1. Analyse sequence length distribution\n",
        "2. Amino Acid Composition with 20 Frequency\n",
        "3. Compositional differences between DNA Binding vs non-binding proteins\n"
      ],
      "metadata": {
        "id": "-AtPi7sciDiI"
      }
    },
    {
      "cell_type": "markdown",
      "source": [
        "###1. Sequence lenght Distribution"
      ],
      "metadata": {
        "id": "XGYha22O0az6"
      }
    },
    {
      "cell_type": "code",
      "source": [],
      "metadata": {
        "id": "FUSG37zo13dy"
      },
      "execution_count": null,
      "outputs": []
    }
  ]
}