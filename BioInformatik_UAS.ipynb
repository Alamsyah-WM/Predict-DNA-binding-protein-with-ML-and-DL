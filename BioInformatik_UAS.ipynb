{
  "nbformat": 4,
  "nbformat_minor": 0,
  "metadata": {
    "colab": {
      "provenance": [],
      "collapsed_sections": [
        "eTWm9RsRvlKq",
        "-AtPi7sciDiI"
      ],
      "authorship_tag": "ABX9TyP6DHVqOIa5/xgtiWSpa62f",
      "include_colab_link": true
    },
    "kernelspec": {
      "name": "python3",
      "display_name": "Python 3"
    },
    "language_info": {
      "name": "python"
    }
  },
  "cells": [
    {
      "cell_type": "markdown",
      "metadata": {
        "id": "view-in-github",
        "colab_type": "text"
      },
      "source": [
        "<a href=\"https://colab.research.google.com/github/Alamsyah-WM/Predict-DNA-binding-protein-with-ML-and-DL/blob/main/BioInformatik_UAS.ipynb\" target=\"_parent\"><img src=\"https://colab.research.google.com/assets/colab-badge.svg\" alt=\"Open In Colab\"/></a>"
      ]
    },
    {
      "cell_type": "markdown",
      "source": [
        "##Import Library"
      ],
      "metadata": {
        "id": "eTWm9RsRvlKq"
      }
    },
    {
      "cell_type": "code",
      "source": [
        "import pandas as pd  # For data manipulation\n",
        "import numpy as np   # For numerical operations\n",
        "import matplotlib.pyplot as plt  # For plotting\n",
        "import seaborn as sns  # For advanced plotting\n",
        "from sklearn.model_selection import train_test_split  # For splitting datasets\n",
        "from sklearn.preprocessing import StandardScaler  # For scaling features\n",
        "from collections import Counter # For counting features\n",
        "from sklearn.svm import SVC # For Classification model SVM\n",
        "from sklearn.neural_network import MLPClassifier # For MLP Classifier\n",
        "from sklearn.metrics import classification_report, confusion_matrix, roc_auc_score # For evaulate model performance"
      ],
      "metadata": {
        "id": "eV20CSNehpXq"
      },
      "execution_count": 88,
      "outputs": []
    },
    {
      "cell_type": "markdown",
      "source": [
        "##Load Dataset"
      ],
      "metadata": {
        "id": "wyrZuv_P1Gy6"
      }
    },
    {
      "cell_type": "code",
      "source": [
        "pdb = pd.read_csv('/content/PDB1063-186.csv')\n",
        "uniswiss = pd.read_csv('/content/UniSwiss.csv')\n",
        "\n",
        "print(\"Raw PDB Dataset:\")\n",
        "print(pdb.head())\n",
        "\n",
        "print(\"\\nRaw UniSwiss Dataset:\")\n",
        "print(uniswiss.head())\n",
        "\n",
        "print(\"\\nPDB Info:\")\n",
        "print(pdb.info())\n",
        "print(\"Shape:\", pdb.shape)\n",
        "\n",
        "print(\"\\nUniSwiss Info:\")\n",
        "print(uniswiss.info())\n",
        "print(\"Shape:\", uniswiss.shape)\n"
      ],
      "metadata": {
        "colab": {
          "base_uri": "https://localhost:8080/"
        },
        "id": "AXSYtCVG1Lqi",
        "outputId": "90888f00-f3f3-4bc7-fa53-74af5f3d8f0b"
      },
      "execution_count": 89,
      "outputs": [
        {
          "output_type": "stream",
          "name": "stdout",
          "text": [
            "Raw PDB Dataset:\n",
            "  identifier                                           sequence  label    set\n",
            "0      1AKHB  TKPYRGHRFTKENVRILESWFAKNIENPYLDTKGLENLMKNTSLSR...      1  train\n",
            "1      1B6WA  MELPIAPIGRIIKDAGAERVSDDARITLAKILEEMGRDIASEAIKL...      1  train\n",
            "2      1C1KA  MIKLRMPAGGERYIDGKSVYKLYLMIKQHMNGKYDVIKYNWCMRVS...      1  train\n",
            "3      1C6VX  QQSKNSKFKNFRVYYREGRDQLWKGPGELLWKGEGAVLLKVGTDIK...      1  train\n",
            "4      1C6VD  IHGQVNSDLGTWQMDCTHLEGKIVIVAVHVASGFIEAEVIPQETGR...      1  train\n",
            "\n",
            "Raw UniSwiss Dataset:\n",
            "   identifier                                           sequence  label    set\n",
            "0      P08956  MMNKSNFEFLKGVNDFTYAIACAAENNYPDDPNTTLIKMRMFGEAT...      1  train\n",
            "1      P27235  MPPQRSRRRKRASATQLYQTCKASGTCPPDVIPKVEGTTLADKILQ...      1  train\n",
            "2      P0AD01  MINVLIIDDDAMVAELNRRYVAQIPGFQCCGTASTLEKAKEIIFNS...      1  train\n",
            "3  A0A024B7I0  MAYMCADSGNLMAIAQQVIKQKQQQEQQQQQSHHPQQQFLGLNPFS...      1  train\n",
            "4      F4I443  MAEFTNMLMNPWVLHLQKLELELKCPLCLKLLNRPVLLPCDHVFCD...      1  train\n",
            "\n",
            "PDB Info:\n",
            "<class 'pandas.core.frame.DataFrame'>\n",
            "RangeIndex: 1249 entries, 0 to 1248\n",
            "Data columns (total 4 columns):\n",
            " #   Column      Non-Null Count  Dtype \n",
            "---  ------      --------------  ----- \n",
            " 0   identifier  1249 non-null   object\n",
            " 1   sequence    1249 non-null   object\n",
            " 2   label       1249 non-null   int64 \n",
            " 3   set         1249 non-null   object\n",
            "dtypes: int64(1), object(3)\n",
            "memory usage: 39.2+ KB\n",
            "None\n",
            "Shape: (1249, 4)\n",
            "\n",
            "UniSwiss Info:\n",
            "<class 'pandas.core.frame.DataFrame'>\n",
            "RangeIndex: 9762 entries, 0 to 9761\n",
            "Data columns (total 4 columns):\n",
            " #   Column      Non-Null Count  Dtype \n",
            "---  ------      --------------  ----- \n",
            " 0   identifier  9762 non-null   object\n",
            " 1   sequence    9762 non-null   object\n",
            " 2   label       9762 non-null   int64 \n",
            " 3   set         9762 non-null   object\n",
            "dtypes: int64(1), object(3)\n",
            "memory usage: 305.2+ KB\n",
            "None\n",
            "Shape: (9762, 4)\n"
          ]
        }
      ]
    },
    {
      "cell_type": "markdown",
      "source": [
        "##Understanding Dataset"
      ],
      "metadata": {
        "id": "zHaVlEhg4Sli"
      }
    },
    {
      "cell_type": "code",
      "source": [
        "# Count sequence length for each protein seqeuence\n",
        "pdb['seq_len'] = pdb['sequence'].str.len()\n",
        "uniswiss['seq_len'] = uniswiss['sequence'].str.len()\n",
        "\n",
        "# Count the label distribution balances\n",
        "pdb_label_counts = pdb['label'].value_counts()\n",
        "uniswiss_label_counts = uniswiss['label'].value_counts()\n",
        "\n",
        "# Count total set distribution for split\n",
        "pdb_set_counts = pdb['set'].value_counts()\n",
        "pdb_set_percentage = (pdb_set_counts / len(pdb)) * 100 #Calculate into percentage\n",
        "uniswiss_set_counts = uniswiss['set'].value_counts()\n",
        "uniswiss_set_percentage = (uniswiss_set_counts / len(uniswiss)) * 100 #Calculate into percentage\n",
        "\n",
        "# Get information about the datasets\n",
        "print(\"Total PDB Sequence:\", len(pdb))\n",
        "print(\"Total Uniswiss Sequence:\", len(uniswiss))\n",
        "\n",
        "print(\"\\nAverage PDB Sequence Length:\", int(pdb['seq_len'].mean()))\n",
        "print(\"Average Uniswiss Sequence Length:\", int(uniswiss['seq_len'].mean()))\n",
        "\n",
        "print(\"\\nMedian PDB Sequence Length:\", round(pdb['seq_len'].median(), 2))\n",
        "print(\"Median UniSwiss Sequence Length:\", round(uniswiss['seq_len'].median(), 2))\n",
        "\n",
        "print(\"\\nStd Dev PDB Sequence Length:\", round(pdb['seq_len'].std(), 2))\n",
        "print(\"Std Dev UniSwiss Sequence Length:\", round(uniswiss['seq_len'].std(), 2))\n",
        "\n",
        "print(\"\\nMinimum PDB Sequence Length:\", pdb['seq_len'].min())\n",
        "print(\"Maximum PDB Sequence Length:\", pdb['seq_len'].max())\n",
        "\n",
        "print(\"\\nMinimum Uniswiss Sequence Length:\", uniswiss['seq_len'].min())\n",
        "print(\"Maximum Uniswiss Sequence Length:\", uniswiss['seq_len'].max())\n",
        "\n",
        "print(\"\\nUnique identifiers PDB:\", pdb['identifier'].nunique())\n",
        "print(\"Unique identifiers UniSwiss:\", uniswiss['identifier'].nunique())\n",
        "\n",
        "print(\"\\nMissing Values in PDB Dataset:\")\n",
        "print(pdb.isnull().sum())\n",
        "print(\"\\nMissing Values in UniSwiss Dataset:\")\n",
        "print(uniswiss.isnull().sum())\n",
        "\n",
        "print(\"\\nLabel Distribution in PDB Dataset:\")\n",
        "print(pdb_label_counts)\n",
        "print(\"\\nLabel Distribution in UniSwiss Dataset:\")\n",
        "print(uniswiss_label_counts)\n",
        "\n",
        "print(\"\\nRaw PDB Dataset split:\")\n",
        "print(pdb_set_counts)\n",
        "print(pdb_set_percentage)\n",
        "\n",
        "print(\"\\nRaw UniSwiss Dataset Split:\")\n",
        "print(uniswiss_set_counts)\n",
        "print(uniswiss_set_percentage)"
      ],
      "metadata": {
        "colab": {
          "base_uri": "https://localhost:8080/"
        },
        "id": "5GHg95454VEt",
        "outputId": "28a3552b-f1a0-4a90-ecba-bbe5c43fd6f3"
      },
      "execution_count": 90,
      "outputs": [
        {
          "output_type": "stream",
          "name": "stdout",
          "text": [
            "Total PDB Sequence: 1249\n",
            "Total Uniswiss Sequence: 9762\n",
            "\n",
            "Average PDB Sequence Length: 243\n",
            "Average Uniswiss Sequence Length: 475\n",
            "\n",
            "Median PDB Sequence Length: 192.0\n",
            "Median UniSwiss Sequence Length: 356.0\n",
            "\n",
            "Std Dev PDB Sequence Length: 184.23\n",
            "Std Dev UniSwiss Sequence Length: 462.31\n",
            "\n",
            "Minimum PDB Sequence Length: 50\n",
            "Maximum PDB Sequence Length: 1323\n",
            "\n",
            "Minimum Uniswiss Sequence Length: 50\n",
            "Maximum Uniswiss Sequence Length: 8515\n",
            "\n",
            "Unique identifiers PDB: 1207\n",
            "Unique identifiers UniSwiss: 9762\n",
            "\n",
            "Missing Values in PDB Dataset:\n",
            "identifier    0\n",
            "sequence      0\n",
            "label         0\n",
            "set           0\n",
            "seq_len       0\n",
            "dtype: int64\n",
            "\n",
            "Missing Values in UniSwiss Dataset:\n",
            "identifier    0\n",
            "sequence      0\n",
            "label         0\n",
            "set           0\n",
            "seq_len       0\n",
            "dtype: int64\n",
            "\n",
            "Label Distribution in PDB Dataset:\n",
            "label\n",
            "0    638\n",
            "1    611\n",
            "Name: count, dtype: int64\n",
            "\n",
            "Label Distribution in UniSwiss Dataset:\n",
            "label\n",
            "1    4881\n",
            "0    4881\n",
            "Name: count, dtype: int64\n",
            "\n",
            "Raw PDB Dataset split:\n",
            "set\n",
            "train    1063\n",
            "test      186\n",
            "Name: count, dtype: int64\n",
            "set\n",
            "train    85.108086\n",
            "test     14.891914\n",
            "Name: count, dtype: float64\n",
            "\n",
            "Raw UniSwiss Dataset Split:\n",
            "set\n",
            "train    9000\n",
            "test      762\n",
            "Name: count, dtype: int64\n",
            "set\n",
            "train    92.194222\n",
            "test      7.805778\n",
            "Name: count, dtype: float64\n"
          ]
        }
      ]
    },
    {
      "cell_type": "markdown",
      "source": [
        "#**Pre-Processing**\n",
        "##Objective\n",
        "1. Cleaning dataset\n",
        "2. feature extraction\n",
        "3. Split dataset\n",
        "4. Scaling\n"
      ],
      "metadata": {
        "id": "aBrrCbXAh0id"
      }
    },
    {
      "cell_type": "markdown",
      "source": [
        "###1. Cleaning dataset"
      ],
      "metadata": {
        "id": "S3CjFQuOiQix"
      }
    },
    {
      "cell_type": "code",
      "source": [
        "# Clean duplicates dataset\n",
        "# 1. Drop duplicate identifiers\n",
        "pdb = pdb.drop_duplicates(subset=\"identifier\", keep=\"first\")\n",
        "uniswiss = uniswiss.drop_duplicates(subset=\"identifier\", keep=\"first\")\n",
        "\n",
        "# 2. Convert to uppercase and remove invalid amino acids\n",
        "valid_aa = set('ACDEFGHIKLMNPQRSTVWY')\n",
        "pdb['sequence'] = pdb['sequence'].str.upper().apply(\n",
        "    lambda s: ''.join([a for a in s if a in valid_aa])\n",
        ")\n",
        "\n",
        "uniswiss['sequence'] = uniswiss['sequence'].str.upper().apply(\n",
        "    lambda s: ''.join([a for a in s if a in valid_aa])\n",
        ")\n",
        "\n",
        "# Check no null value\n",
        "pdb = pdb.dropna(subset=['sequence', 'label'])\n",
        "uniswiss = uniswiss.dropna(subset=['sequence', 'label'])\n",
        "\n",
        "# Get protein sequence after cleaning\n",
        "print(\"PDB protein sequence after cleaning:\", len(pdb))\n",
        "print(\"UniSwiss protein sequence after cleaning:\", len(uniswiss))\n"
      ],
      "metadata": {
        "colab": {
          "base_uri": "https://localhost:8080/"
        },
        "id": "3y6fY9YlidEl",
        "outputId": "a208c71b-d375-462a-8a01-66f9622c3f5e"
      },
      "execution_count": 92,
      "outputs": [
        {
          "output_type": "stream",
          "name": "stdout",
          "text": [
            "PDB protein sequence after cleaning: 1207\n",
            "UniSwiss protein sequence after cleaning: 9762\n"
          ]
        }
      ]
    },
    {
      "cell_type": "markdown",
      "source": [
        "###2. Feature Extraction"
      ],
      "metadata": {
        "id": "5vyDGIaoiUTo"
      }
    },
    {
      "cell_type": "code",
      "source": [
        "# feature extraction with AAC Composition-based\n",
        "def amino_acid_composition(seq):\n",
        "    aa = 'ACDEFGHIKLMNPQRSTVWY'\n",
        "    counts = np.array([seq.count(a) for a in aa], dtype=float)\n",
        "    return counts / len(seq)\n",
        "\n",
        "# Feature extraction for PDB dataset\n",
        "X_pdb = np.vstack(pdb['sequence'].apply(amino_acid_composition))\n",
        "y_pdb = pdb['label'].values\n",
        "\n",
        "# Feature extraction for UniSwiss dataset\n",
        "X_uniswiss = np.vstack(uniswiss['sequence'].apply(amino_acid_composition))\n",
        "y_uniswiss = uniswiss['label'].values\n",
        "\n",
        "print(\"PDB feature matrix:\", X_pdb.shape)\n",
        "print(\"UniSwiss feature matrix:\", X_uniswiss.shape)\n",
        "\n",
        "print(\"\\nTop 5 first row PDB from AAC:\")\n",
        "print(pd.DataFrame(X_pdb[:5], columns=list('ACDEFGHIKLMNPQRSTVWY')).round(3))\n",
        "\n",
        "print(\"\\nTop 5 first row UniSwiss from AAC:\")\n",
        "print(pd.DataFrame(X_uniswiss[:5], columns=list('ACDEFGHIKLMNPQRSTVWY')).round(3))"
      ],
      "metadata": {
        "colab": {
          "base_uri": "https://localhost:8080/"
        },
        "id": "iify9mZ0og5N",
        "outputId": "9975ade8-ed0b-4a28-fe50-874ff9259e01"
      },
      "execution_count": 104,
      "outputs": [
        {
          "output_type": "stream",
          "name": "stdout",
          "text": [
            "PDB feature matrix: (1207, 20)\n",
            "UniSwiss feature matrix: (9762, 20)\n",
            "\n",
            "Top 5 first row PDB from AAC:\n",
            "       A      C      D      E      F      G      H      I      K      L  \\\n",
            "0  0.048  0.000  0.024  0.096  0.024  0.036  0.012  0.072  0.133  0.108   \n",
            "1  0.159  0.000  0.072  0.101  0.014  0.058  0.014  0.145  0.101  0.072   \n",
            "2  0.051  0.009  0.065  0.055  0.065  0.028  0.009  0.106  0.129  0.083   \n",
            "3  0.049  0.000  0.062  0.086  0.025  0.123  0.012  0.037  0.136  0.062   \n",
            "4  0.079  0.012  0.030  0.073  0.030  0.079  0.061  0.085  0.030  0.061   \n",
            "\n",
            "       M      N      P      Q      R      S      T      V      W      Y  \n",
            "0  0.012  0.084  0.048  0.012  0.084  0.060  0.072  0.024  0.024  0.024  \n",
            "1  0.029  0.000  0.029  0.000  0.116  0.029  0.029  0.029  0.000  0.000  \n",
            "2  0.023  0.060  0.009  0.041  0.041  0.069  0.014  0.051  0.014  0.078  \n",
            "3  0.012  0.025  0.025  0.037  0.074  0.062  0.025  0.086  0.025  0.037  \n",
            "4  0.043  0.055  0.030  0.073  0.043  0.030  0.067  0.085  0.024  0.006  \n",
            "\n",
            "Top 5 first row UniSwiss from AAC:\n",
            "       A      C      D      E      F      G      H      I      K      L  \\\n",
            "0  0.080  0.010  0.073  0.080  0.046  0.049  0.020  0.055  0.062  0.095   \n",
            "1  0.059  0.004  0.052  0.025  0.046  0.071  0.027  0.059  0.013  0.065   \n",
            "2  0.071  0.029  0.071  0.054  0.025  0.038  0.033  0.084  0.050  0.109   \n",
            "3  0.073  0.012  0.051  0.063  0.048  0.066  0.014  0.034  0.041  0.107   \n",
            "4  0.070  0.036  0.062  0.071  0.025  0.048  0.031  0.043  0.077  0.088   \n",
            "\n",
            "       M      N      P      Q      R      S      T      V      W      Y  \n",
            "0  0.015  0.045  0.037  0.056  0.072  0.041  0.058  0.066  0.011  0.030  \n",
            "1  0.019  0.025  0.109  0.025  0.061  0.109  0.126  0.075  0.008  0.021  \n",
            "2  0.017  0.038  0.033  0.063  0.054  0.063  0.046  0.054  0.013  0.054  \n",
            "3  0.022  0.053  0.070  0.060  0.043  0.100  0.043  0.061  0.015  0.026  \n",
            "4  0.018  0.052  0.053  0.039  0.049  0.101  0.046  0.053  0.013  0.024  \n"
          ]
        }
      ]
    },
    {
      "cell_type": "markdown",
      "source": [
        "###3. Split Dataset"
      ],
      "metadata": {
        "id": "GoULeyVDiXGg"
      }
    },
    {
      "cell_type": "markdown",
      "source": [
        "###4. Scaling"
      ],
      "metadata": {
        "id": "l02QGqeeiZvN"
      }
    },
    {
      "cell_type": "markdown",
      "source": [
        "#**Exploraty Data Analysis**\n",
        "##Objective\n",
        "1. Analyse sequence length distribution\n",
        "2. Class Distribution Visualization\n",
        "3. Amino Acid Composition Visualization\n"
      ],
      "metadata": {
        "id": "-AtPi7sciDiI"
      }
    },
    {
      "cell_type": "markdown",
      "source": [
        "###1. Sequence lenght Distribution"
      ],
      "metadata": {
        "id": "XGYha22O0az6"
      }
    },
    {
      "cell_type": "code",
      "source": [
        "# Plot sequence length distribution for both datasets\n",
        "plt.figure(figsize=(14, 7))\n",
        "\n",
        "# PDB Sequence Length Distribution Visual\n",
        "plt.subplot(1, 2, 1)\n",
        "plt.hist(pdb['seq_len'], bins=30, alpha=0.7, color='blue')\n",
        "plt.title('Sequence Length Distribution - PDB Dataset')\n",
        "plt.xlabel('Sequence Length')\n",
        "plt.ylabel('Frequency')\n",
        "\n",
        "# UniSwiss Sequence Length Distribution Visual\n",
        "plt.subplot(1, 2, 2)\n",
        "plt.hist(uniswiss['seq_len'], bins=30, alpha=0.7, color='green')\n",
        "plt.title('Sequence Length Distribution - UniSwiss Dataset')\n",
        "plt.xlabel('Sequence Length')\n",
        "plt.ylabel('Frequency')\n",
        "\n",
        "plt.tight_layout()\n",
        "plt.show()"
      ],
      "metadata": {
        "colab": {
          "base_uri": "https://localhost:8080/",
          "height": 366
        },
        "id": "L1FQd_niAFJ4",
        "outputId": "634471cc-40fc-4018-9d3b-cdeae84872ea"
      },
      "execution_count": 29,
      "outputs": [
        {
          "output_type": "display_data",
          "data": {
            "text/plain": [
              "<Figure size 1400x700 with 2 Axes>"
            ],
            "image/png": "[encoded data removed]"
          },
          "metadata": {}
        }
      ]
    },
    {
      "cell_type": "markdown",
      "source": [
        "###2. Class Distribution"
      ],
      "metadata": {
        "id": "MBffO2WVMFid"
      }
    },
    {
      "cell_type": "code",
      "source": [
        "# Plot class for both datasets\n",
        "plt.figure(figsize=(14, 7))\n",
        "\n",
        "# Get PDB Class Distribution Visual\n",
        "plt.subplot(1, 2, 1)\n",
        "plt.bar(['Non-binder (0)', 'Binder (1)'], pdb_label_counts.sort_index(), color=['gray','skyblue'])\n",
        "plt.title('Class Distribution - PDB1063-186')\n",
        "plt.ylabel('Count')\n",
        "plt.grid(axis='y', alpha=0.3)\n",
        "\n",
        "# UniSwiss Class Distribution Visual\n",
        "plt.subplot(1, 2, 2)\n",
        "plt.bar(['Non-binder (0)', 'Binder (1)'], uniswiss_label_counts.sort_index(), color=['gray','salmon'])\n",
        "plt.title('Class Distribution - UniSwiss')\n",
        "plt.ylabel('Count')\n",
        "plt.grid(axis='y', alpha=0.3)\n",
        "\n",
        "plt.tight_layout()\n",
        "plt.show()"
      ],
      "metadata": {
        "colab": {
          "base_uri": "https://localhost:8080/",
          "height": 366
        },
        "id": "9Xl8Eq-S78up",
        "outputId": "c305e110-7611-409b-9e10-c7b287634f93"
      },
      "execution_count": 39,
      "outputs": [
        {
          "output_type": "display_data",
          "data": {
            "text/plain": [
              "<Figure size 1400x700 with 2 Axes>"
            ],
            "image/png": "[encoded data removed]"
          },
          "metadata": {}
        }
      ]
    },
    {
      "cell_type": "markdown",
      "source": [
        "###3. Amino Acid Composition"
      ],
      "metadata": {
        "id": "uCvcIYfZB6n9"
      }
    },
    {
      "cell_type": "code",
      "source": [
        "# def amino_acid_composition(sequences):\n",
        "#     all_seq = ''.join(sequences)\n",
        "#     freq = Counter(all_seq)\n",
        "#     amino_acids = list('ACDEFGHIKLMNPQRSTVWY')\n",
        "#     total = sum(freq.values())\n",
        "#     composition = [freq.get(aa,0)/total for aa in amino_acids]\n",
        "#     return amino_acids, composition\n",
        "\n",
        "# # Calculate composition for Both dataset\n",
        "# aas, comp_pdb = amino_acid_composition(pdb['sequence'])\n",
        "# __, comp_uni = amino_acid_composition(uniswiss['sequence'])\n",
        "\n",
        "# # Plot class for both datasets\n",
        "# plt.figure(figsize=(14,7))\n",
        "# width = 0.35\n",
        "# x = np.arange(len(aas))\n",
        "\n",
        "# # Get Visual\n",
        "# plt.subplot(1, 2, 1)\n",
        "# plt.bar(x - width/2, comp_pdb, width=width, color='royalblue', label='PDB1063-186')\n",
        "# plt.title('Amino Acid Composition - PDB1063-186')\n",
        "# plt.xlabel('Amino Acid')\n",
        "# plt.ylabel('Frequency')\n",
        "# plt.grid(axis='y', alpha=0.3)\n",
        "\n",
        "# plt.subplot(1, 2, 2)\n",
        "# plt.bar(x + width/2, comp_uni, width=width, color='salmon', label='UniSwiss')\n",
        "# plt.title('Amino Acid Composition - UniSwiss')\n",
        "# plt.xlabel('Amino Acid')\n",
        "# plt.ylabel('Frequency')\n",
        "# plt.grid(axis='y', alpha=0.3)\n",
        "\n",
        "# plt.tight_layout()\n",
        "# plt.show()\n",
        "\n"
      ],
      "metadata": {
        "colab": {
          "base_uri": "https://localhost:8080/",
          "height": 367
        },
        "id": "kHJUNsaBMIL2",
        "outputId": "8d659075-4ed1-4745-c64f-1adc459b4b56"
      },
      "execution_count": 56,
      "outputs": [
        {
          "output_type": "display_data",
          "data": {
            "text/plain": [
              "<Figure size 1400x700 with 2 Axes>"
            ],
            "image/png": "[encoded data removed]"
          },
          "metadata": {}
        }
      ]
    },
    {
      "cell_type": "markdown",
      "source": [
        "#**Pre-Processing & Baseline Models**\n",
        "##Objective\n",
        "1. Feature Extraction\n",
        "2. SVM\n",
        "3. MLP\n",
        "4. LightGBM\n"
      ],
      "metadata": {
        "id": "585YoiKuMigU"
      }
    },
    {
      "cell_type": "markdown",
      "source": [
        "###1. Feature Extraction"
      ],
      "metadata": {
        "id": "XNghyLNvNmpC"
      }
    },
    {
      "cell_type": "code",
      "source": [
        "# feature extraction with AAC Composition-based\n",
        "def AAC(seq):\n",
        "    aa = 'ACDEFGHIKLMNPQRSTVWY'\n",
        "    counts = np.array([seq.count(a) for a in aa], dtype=float)\n",
        "    return counts / len(seq)\n",
        "\n",
        "X = np.vstack(pdb['sequence'].apply(AAC))\n",
        "y = pdb['label'].values\n",
        "\n",
        "print(\"Feature matrix shape:\", X.shape)\n",
        "print(\"Labels shape:\", y.shape)"
      ],
      "metadata": {
        "colab": {
          "base_uri": "https://localhost:8080/"
        },
        "id": "wH_CWG1gN1uT",
        "outputId": "848df2a1-c1dc-448d-c3ca-044fcdb0bcdc"
      },
      "execution_count": 63,
      "outputs": [
        {
          "output_type": "stream",
          "name": "stdout",
          "text": [
            "Feature matrix shape: (1249, 20)\n",
            "Labels shape: (1249,)\n"
          ]
        }
      ]
    },
    {
      "cell_type": "markdown",
      "source": [
        "###2. SVM"
      ],
      "metadata": {
        "id": "am2Zoaj5Nq2c"
      }
    },
    {
      "cell_type": "markdown",
      "source": [
        "###3. MLP"
      ],
      "metadata": {
        "id": "FMKwyk8wNt_i"
      }
    },
    {
      "cell_type": "code",
      "source": [],
      "metadata": {
        "id": "bdq6q_dkN2dI"
      },
      "execution_count": null,
      "outputs": []
    },
    {
      "cell_type": "markdown",
      "source": [
        "###4. LightBGM"
      ],
      "metadata": {
        "id": "F_gafh93Nw8b"
      }
    },
    {
      "cell_type": "code",
      "source": [],
      "metadata": {
        "id": "OVO68Ag0KLaZ"
      },
      "execution_count": null,
      "outputs": []
    }
  ]
}