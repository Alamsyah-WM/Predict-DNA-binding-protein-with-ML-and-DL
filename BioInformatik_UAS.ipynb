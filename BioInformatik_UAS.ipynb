{
  "nbformat": 4,
  "nbformat_minor": 0,
  "metadata": {
    "colab": {
      "provenance": [],
      "authorship_tag": "ABX9TyNrFTf1W1qlkDWk075j14Ns",
      "include_colab_link": true
    },
    "kernelspec": {
      "name": "python3",
      "display_name": "Python 3"
    },
    "language_info": {
      "name": "python"
    }
  },
  "cells": [
    {
      "cell_type": "markdown",
      "metadata": {
        "id": "view-in-github",
        "colab_type": "text"
      },
      "source": [
        "<a href=\"https://colab.research.google.com/github/Alamsyah-WM/Predict-DNA-binding-protein-with-ML-and-DL/blob/main/BioInformatik_UAS.ipynb\" target=\"_parent\"><img src=\"https://colab.research.google.com/assets/colab-badge.svg\" alt=\"Open In Colab\"/></a>"
      ]
    },
    {
      "cell_type": "markdown",
      "source": [
        "##Import Library"
      ],
      "metadata": {
        "id": "eTWm9RsRvlKq"
      }
    },
    {
      "cell_type": "code",
      "source": [
        "import pandas as pd  # For data manipulation\n",
        "import numpy as np   # For numerical operations\n",
        "import matplotlib.pyplot as plt  # For plotting\n",
        "import seaborn as sns  # For advanced plotting\n",
        "from sklearn.model_selection import train_test_split  # For splitting datasets\n",
        "from sklearn.preprocessing import StandardScaler  # For scaling features"
      ],
      "metadata": {
        "id": "eV20CSNehpXq"
      },
      "execution_count": 3,
      "outputs": []
    },
    {
      "cell_type": "markdown",
      "source": [
        "##Load Dataset"
      ],
      "metadata": {
        "id": "wyrZuv_P1Gy6"
      }
    },
    {
      "cell_type": "code",
      "source": [
        "pdb = pd.read_csv('/content/PDB1063-186.csv')\n",
        "uniswiss = pd.read_csv('/content/UniSwiss.csv')\n",
        "\n",
        "print(\"Raw PDB Dataset:\")\n",
        "print(pdb.head())\n",
        "\n",
        "print(\"\\nRaw UniSwiss Dataset:\")\n",
        "print(uniswiss.head())\n",
        "\n",
        "print(\"\\nPDB Info:\")\n",
        "print(pdb.info())\n",
        "\n",
        "print(\"\\nUniSwiss Info:\")\n",
        "print(uniswiss.info())"
      ],
      "metadata": {
        "colab": {
          "base_uri": "https://localhost:8080/"
        },
        "id": "AXSYtCVG1Lqi",
        "outputId": "590f6b31-e53e-4a15-918a-4d6436322e10"
      },
      "execution_count": 5,
      "outputs": [
        {
          "output_type": "stream",
          "name": "stdout",
          "text": [
            "Raw PDB Dataset:\n",
            "  identifier                                           sequence  label    set\n",
            "0      1AKHB  TKPYRGHRFTKENVRILESWFAKNIENPYLDTKGLENLMKNTSLSR...      1  train\n",
            "1      1B6WA  MELPIAPIGRIIKDAGAERVSDDARITLAKILEEMGRDIASEAIKL...      1  train\n",
            "2      1C1KA  MIKLRMPAGGERYIDGKSVYKLYLMIKQHMNGKYDVIKYNWCMRVS...      1  train\n",
            "3      1C6VX  QQSKNSKFKNFRVYYREGRDQLWKGPGELLWKGEGAVLLKVGTDIK...      1  train\n",
            "4      1C6VD  IHGQVNSDLGTWQMDCTHLEGKIVIVAVHVASGFIEAEVIPQETGR...      1  train\n",
            "\n",
            "Raw UniSwiss Dataset:\n",
            "   identifier                                           sequence  label    set\n",
            "0      P08956  MMNKSNFEFLKGVNDFTYAIACAAENNYPDDPNTTLIKMRMFGEAT...      1  train\n",
            "1      P27235  MPPQRSRRRKRASATQLYQTCKASGTCPPDVIPKVEGTTLADKILQ...      1  train\n",
            "2      P0AD01  MINVLIIDDDAMVAELNRRYVAQIPGFQCCGTASTLEKAKEIIFNS...      1  train\n",
            "3  A0A024B7I0  MAYMCADSGNLMAIAQQVIKQKQQQEQQQQQSHHPQQQFLGLNPFS...      1  train\n",
            "4      F4I443  MAEFTNMLMNPWVLHLQKLELELKCPLCLKLLNRPVLLPCDHVFCD...      1  train\n",
            "\n",
            "PDB Info:\n",
            "<class 'pandas.core.frame.DataFrame'>\n",
            "RangeIndex: 1249 entries, 0 to 1248\n",
            "Data columns (total 4 columns):\n",
            " #   Column      Non-Null Count  Dtype \n",
            "---  ------      --------------  ----- \n",
            " 0   identifier  1249 non-null   object\n",
            " 1   sequence    1249 non-null   object\n",
            " 2   label       1249 non-null   int64 \n",
            " 3   set         1249 non-null   object\n",
            "dtypes: int64(1), object(3)\n",
            "memory usage: 39.2+ KB\n",
            "None\n",
            "\n",
            "UniSwiss Info:\n",
            "<class 'pandas.core.frame.DataFrame'>\n",
            "RangeIndex: 9762 entries, 0 to 9761\n",
            "Data columns (total 4 columns):\n",
            " #   Column      Non-Null Count  Dtype \n",
            "---  ------      --------------  ----- \n",
            " 0   identifier  9762 non-null   object\n",
            " 1   sequence    9762 non-null   object\n",
            " 2   label       9762 non-null   int64 \n",
            " 3   set         9762 non-null   object\n",
            "dtypes: int64(1), object(3)\n",
            "memory usage: 305.2+ KB\n",
            "None\n"
          ]
        }
      ]
    },
    {
      "cell_type": "markdown",
      "source": [
        "##Understanding Dataset"
      ],
      "metadata": {
        "id": "zHaVlEhg4Sli"
      }
    },
    {
      "cell_type": "code",
      "source": [
        "# Count sequence length for each protein seqeuence\n",
        "pdb['seq_len'] = pdb['sequence'].str.len()\n",
        "uniswiss['seq_len'] = uniswiss['sequence'].str.len()\n",
        "\n",
        "# Count the label distribution balances\n",
        "pdb_label_counts = pdb['label'].value_counts()\n",
        "uniswiss_label_counts = uniswiss['label'].value_counts()\n",
        "\n",
        "# Count total set distribution for split\n",
        "pdb_set_counts = pdb['set'].value_counts()\n",
        "pdb_set_percentage = (pdb_set_counts / len(pdb)) * 100 #Calculate into percentage\n",
        "uniswiss_set_counts = uniswiss['set'].value_counts()\n",
        "uniswiss_set_percentage = (uniswiss_set_counts / len(uniswiss)) * 100 #Calculate into percentage\n",
        "\n",
        "# Get information about the datasets\n",
        "print(\"Total PDB Sequence:\", len(pdb))\n",
        "print(\"Total Uniswiss Sequence:\", len(uniswiss))\n",
        "\n",
        "print(\"\\nAverage PDB Sequence Length:\", int(pdb['seq_len'].mean()))\n",
        "print(\"Average Uniswiss Sequence Length:\", int(uniswiss['seq_len'].mean()))\n",
        "\n",
        "print(\"\\nMinimum PDB Sequence Length:\", pdb['seq_len'].min())\n",
        "print(\"Maximum PDB Sequence Length:\", pdb['seq_len'].max())\n",
        "\n",
        "print(\"\\nMinimum Uniswiss Sequence Length:\", uniswiss['seq_len'].min())\n",
        "print(\"Maximum Uniswiss Sequence Length:\", uniswiss['seq_len'].max())\n",
        "\n",
        "\n",
        "print(\"\\nMissing Values in PDB Dataset:\")\n",
        "print(pdb.isnull().sum())\n",
        "print(\"\\nMissing Values in UniSwiss Dataset:\")\n",
        "print(uniswiss.isnull().sum())\n",
        "\n",
        "print(\"\\nLabel Distribution in PDB Dataset:\")\n",
        "print(pdb_label_counts)\n",
        "print(\"\\nLabel Distribution in UniSwiss Dataset:\")\n",
        "print(uniswiss_label_counts)\n",
        "\n",
        "print(\"\\nRaw PDB Dataset split:\")\n",
        "print(pdb_set_counts)\n",
        "print(pdb_set_percentage)\n",
        "\n",
        "print(\"\\nRaw UniSwiss Dataset Split:\")\n",
        "print(uniswiss_set_counts)\n",
        "print(uniswiss_set_percentage)"
      ],
      "metadata": {
        "colab": {
          "base_uri": "https://localhost:8080/"
        },
        "id": "5GHg95454VEt",
        "outputId": "5073cf74-6d2d-4874-c67c-11ceb80175b3"
      },
      "execution_count": 7,
      "outputs": [
        {
          "output_type": "stream",
          "name": "stdout",
          "text": [
            "Total PDB Sequence: 1249\n",
            "Total Uniswiss Sequence: 9762\n",
            "\n",
            "Average PDB Sequence Length: 243\n",
            "Average Uniswiss Sequence Length: 475\n",
            "\n",
            "Minimum PDB Sequence Length: 50\n",
            "Maximum PDB Sequence Length: 1323\n",
            "\n",
            "Minimum Uniswiss Sequence Length: 50\n",
            "Maximum Uniswiss Sequence Length: 8515\n",
            "\n",
            "Missing Values in PDB Dataset:\n",
            "identifier    0\n",
            "sequence      0\n",
            "label         0\n",
            "set           0\n",
            "seq_len       0\n",
            "dtype: int64\n",
            "\n",
            "Missing Values in UniSwiss Dataset:\n",
            "identifier    0\n",
            "sequence      0\n",
            "label         0\n",
            "set           0\n",
            "seq_len       0\n",
            "dtype: int64\n",
            "\n",
            "Label Distribution in PDB Dataset:\n",
            "label\n",
            "0    638\n",
            "1    611\n",
            "Name: count, dtype: int64\n",
            "\n",
            "Label Distribution in UniSwiss Dataset:\n",
            "label\n",
            "1    4881\n",
            "0    4881\n",
            "Name: count, dtype: int64\n",
            "\n",
            "Raw PDB Dataset split:\n",
            "set\n",
            "train    1063\n",
            "test      186\n",
            "Name: count, dtype: int64\n",
            "set\n",
            "train    85.108086\n",
            "test     14.891914\n",
            "Name: count, dtype: float64\n",
            "\n",
            "Raw UniSwiss Dataset Split:\n",
            "set\n",
            "train    9000\n",
            "test      762\n",
            "Name: count, dtype: int64\n",
            "set\n",
            "train    92.194222\n",
            "test      7.805778\n",
            "Name: count, dtype: float64\n"
          ]
        }
      ]
    },
    {
      "cell_type": "markdown",
      "source": [
        "#**Exploraty Data Analysis**\n",
        "##Objective\n",
        "1. Analyse sequence length distribution\n",
        "2. Amino Acid Composition Binding vs Non-Binding\n",
        "3. To be continue...\n"
      ],
      "metadata": {
        "id": "-AtPi7sciDiI"
      }
    },
    {
      "cell_type": "markdown",
      "source": [
        "###1. Sequence lenght Distribution"
      ],
      "metadata": {
        "id": "XGYha22O0az6"
      }
    },
    {
      "cell_type": "code",
      "source": [
        "# Plot sequence length distribution for both datasets\n",
        "plt.figure(figsize=(14, 7))\n",
        "\n",
        "# PDB Sequence Length Distribution\n",
        "plt.subplot(1, 2, 1)\n",
        "plt.hist(pdb['seq_len'], bins=30, alpha=0.7, color='blue')\n",
        "plt.title('Sequence Length Distribution - PDB Dataset')\n",
        "plt.xlabel('Sequence Length')\n",
        "plt.ylabel('Frequency')\n",
        "\n",
        "# UniSwiss Sequence Length Distribution\n",
        "plt.subplot(1, 2, 2)\n",
        "plt.hist(uniswiss['seq_len'], bins=30, alpha=0.7, color='green')\n",
        "plt.title('Sequence Length Distribution - UniSwiss Dataset')\n",
        "plt.xlabel('Sequence Length')\n",
        "plt.ylabel('Frequency')\n",
        "\n",
        "plt.tight_layout()\n",
        "plt.show()"
      ],
      "metadata": {
        "colab": {
          "base_uri": "https://localhost:8080/",
          "height": 608
        },
        "id": "L1FQd_niAFJ4",
        "outputId": "1e348550-5dd3-4523-933c-617ec06aa4a1"
      },
      "execution_count": 9,
      "outputs": [
        {
          "output_type": "display_data",
          "data": {
            "text/plain": [
              "<Figure size 1400x700 with 2 Axes>"
            ],
            "image/png": "[encoded data removed]"
          },
          "metadata": {}
        }
      ]
    },
    {
      "cell_type": "markdown",
      "source": [
        "###2. Composition Based"
      ],
      "metadata": {
        "id": "MBffO2WVMFid"
      }
    },
    {
      "cell_type": "code",
      "source": [
        "# Function with AAC Method\n",
        "def amino_acid_composition(sequence):\n",
        "    aa_count = {aa: sequence.count(aa) for aa in 'ACDEFGHIKLMNPQRSTVWY'}\n",
        "    total = len(sequence)\n",
        "    aa_percent = {aa: count / total * 100 for aa, count in aa_count.items()}\n",
        "    return aa_percent\n",
        "\n",
        "# Define PDB Binding and Non-Binding Proteins\n",
        "binding_pdb = pdb[pdb['label'] == 1]\n",
        "non_binding_pdb = pdb[pdb['label'] == 0]\n",
        "\n",
        "# Define Unisweet Binding and Non-Binding Proteins\n",
        "binding_uniswiss = uniswiss[uniswiss['label'] == 1]\n",
        "non_binding_uniswiss = uniswiss[uniswiss['label'] == 0]\n",
        "\n",
        "# Compare AAC between DNA-binding and non-binding proteins PDB\n",
        "binding_pdb_aac = binding_pdb['sequence'].apply(amino_acid_composition)\n",
        "non_binding_pdb_aac = non_binding_pdb['sequence'].apply(amino_acid_composition)\n",
        "\n",
        "# Compare AAC between DNA-binding and non-binding proteins UniSwiss\n",
        "binding_uniswiss_aac = binding_uniswiss['sequence'].apply(amino_acid_composition)\n",
        "non_binding_uniswiss_aac = non_binding_uniswiss['sequence'].apply(amino_acid_composition)\n",
        "\n",
        "# List PDB in DataFrame view\n",
        "binding_pdb_acc_df = pd.DataFrame(list(binding_pdb_aac))\n",
        "non_binding_pdb_acc_df = pd.DataFrame(list(non_binding_pdb_aac))\n",
        "\n",
        "# Display the PDB Binding and Non-Binding protein Composition\n",
        "print(\"Dont know\")\n",
        "print(binding_pdb_acc_df)\n",
        "print(\"\\nDont know\")\n",
        "print(non_binding_pdb_acc_df)\n"
      ],
      "metadata": {
        "colab": {
          "base_uri": "https://localhost:8080/"
        },
        "id": "kHJUNsaBMIL2",
        "outputId": "8184b20c-0424-4695-b8de-ccd7b48e8956"
      },
      "execution_count": 10,
      "outputs": [
        {
          "output_type": "stream",
          "name": "stdout",
          "text": [
            "Dont know\n",
            "             A         C         D          E         F          G         H  \\\n",
            "0     4.819277  0.000000  2.409639   9.638554  2.409639   3.614458  1.204819   \n",
            "1    15.942029  0.000000  7.246377  10.144928  1.449275   5.797101  1.449275   \n",
            "2     5.069124  0.921659  6.451613   5.529954  6.451613   2.764977  0.921659   \n",
            "3     4.938272  0.000000  6.172840   8.641975  2.469136  12.345679  1.234568   \n",
            "4     7.926829  1.219512  3.048780   7.317073  3.048780   7.926829  6.097561   \n",
            "..         ...       ...       ...        ...       ...        ...       ...   \n",
            "606   7.200000  0.000000  7.600000   6.800000  3.600000   8.800000  1.600000   \n",
            "607   7.299270  0.729927  5.109489   8.759124  4.379562  10.218978  2.919708   \n",
            "608   7.947020  0.331126  5.960265   8.609272  3.642384   4.304636  3.311258   \n",
            "609   6.060606  0.000000  7.575758   6.060606  1.515152   9.090909  1.515152   \n",
            "610   7.438017  0.826446  2.892562   7.438017  6.198347   8.264463  2.066116   \n",
            "\n",
            "             I          K          L         M         N         P         Q  \\\n",
            "0     7.228916  13.253012  10.843373  1.204819  8.433735  4.819277  1.204819   \n",
            "1    14.492754  10.144928   7.246377  2.898551  0.000000  2.898551  0.000000   \n",
            "2    10.599078  12.903226   8.294931  2.304147  5.990783  0.921659  4.147465   \n",
            "3     3.703704  13.580247   6.172840  1.234568  2.469136  2.469136  3.703704   \n",
            "4     8.536585   3.048780   6.097561  4.268293  5.487805  3.048780  7.317073   \n",
            "..         ...        ...        ...       ...       ...       ...       ...   \n",
            "606   3.600000   4.400000  11.600000  1.600000  2.800000  4.400000  1.600000   \n",
            "607   1.459854   2.919708   8.029197  0.729927  2.919708  6.569343  3.649635   \n",
            "608   4.966887   5.960265  10.596026  5.298013  1.655629  5.960265  4.966887   \n",
            "609   1.515152   7.575758   7.575758  4.545455  1.515152  3.030303  4.545455   \n",
            "610   2.066116   5.371901  13.636364  2.066116  1.652893  4.545455  2.066116   \n",
            "\n",
            "             R         S         T          V         W         Y  \n",
            "0     8.433735  6.024096  7.228916   2.409639  2.409639  2.409639  \n",
            "1    11.594203  2.898551  2.898551   2.898551  0.000000  0.000000  \n",
            "2     4.147465  6.912442  1.382488   5.069124  1.382488  7.834101  \n",
            "3     7.407407  6.172840  2.469136   8.641975  2.469136  3.703704  \n",
            "4     4.268293  3.048780  6.707317   8.536585  2.439024  0.609756  \n",
            "..         ...       ...       ...        ...       ...       ...  \n",
            "606   9.200000  3.600000  7.200000  10.800000  0.800000  2.800000  \n",
            "607  11.678832  5.839416  2.919708   8.029197  4.379562  1.459854  \n",
            "608   7.615894  4.966887  4.635762   3.973510  1.655629  3.642384  \n",
            "609   4.545455  9.090909  4.545455   9.090909  1.515152  9.090909  \n",
            "610   9.504132  6.611570  7.438017   5.371901  0.826446  3.719008  \n",
            "\n",
            "[611 rows x 20 columns]\n",
            "\n",
            "Dont know\n",
            "             A         C         D         E         F          G         H  \\\n",
            "0     7.729469  7.729469  6.280193  2.898551  5.314010  11.594203  0.000000   \n",
            "1     9.156194  0.000000  6.104129  4.488330  3.052065   8.258528  1.974865   \n",
            "2     5.811138  1.937046  4.600484  6.053269  3.147700  13.317191  2.905569   \n",
            "3     6.769231  0.307692  8.923077  4.307692  2.153846   8.000000  0.615385   \n",
            "4     3.672316  0.000000  6.497175  5.649718  3.672316   7.627119  1.412429   \n",
            "..         ...       ...       ...       ...       ...        ...       ...   \n",
            "633   8.722741  0.311526  7.165109  6.853583  4.361371   8.411215  2.492212   \n",
            "634  12.195122  0.000000  6.707317  3.963415  3.963415   8.231707  0.914634   \n",
            "635   6.748466  3.680982  3.067485  5.521472  4.294479   5.521472  3.067485   \n",
            "636   5.927342  0.382409  6.309751  4.971319  2.103250   8.030593  2.294455   \n",
            "637   4.201681  5.462185  4.831933  4.831933  5.252101   5.672269  4.411765   \n",
            "\n",
            "            I         K         L         M         N         P         Q  \\\n",
            "0    3.864734  5.797101  4.347826  0.483092  3.864734  5.797101  1.932367   \n",
            "1    3.411131  5.385996  7.719928  1.795332  5.206463  5.385996  6.463196   \n",
            "2    1.694915  5.326877  8.958838  2.663438  2.663438  4.116223  4.842615   \n",
            "3    8.000000  4.615385  7.384615  2.769231  7.076923  2.153846  1.230769   \n",
            "4    9.322034  6.497175  8.757062  1.694915  5.084746  6.497175  1.977401   \n",
            "..        ...       ...       ...       ...       ...       ...       ...   \n",
            "633  8.722741  4.672897  5.607477  1.869159  5.295950  4.984424  1.246106   \n",
            "634  7.012195  6.402439  7.621951  2.439024  8.231707  3.353659  3.963415   \n",
            "635  4.907975  6.134969  8.588957  2.453988  5.521472  3.680982  1.840491   \n",
            "636  7.265774  5.544933  7.456979  3.250478  5.162524  4.780115  4.780115   \n",
            "637  7.773109  7.983193  8.613445  2.100840  7.563025  2.310924  5.252101   \n",
            "\n",
            "            R          S         T          V         W         Y  \n",
            "0    5.797101   6.763285  9.661836   4.830918  1.449275  3.864734  \n",
            "1    4.129264   5.206463  7.540395   6.642729  4.129264  3.949731  \n",
            "2    4.600484   8.958838  4.600484  10.653753  0.968523  2.179177  \n",
            "3    7.384615  10.461538  3.692308   9.538462  0.307692  4.307692  \n",
            "4    3.954802   9.039548  3.389831   5.367232  3.107345  6.779661  \n",
            "..        ...        ...       ...        ...       ...       ...  \n",
            "633  2.180685   5.295950  6.853583  10.903427  0.311526  3.738318  \n",
            "634  2.439024   3.963415  5.182927   5.487805  2.134146  5.792683  \n",
            "635  6.748466   9.202454  3.680982  11.656442  0.000000  3.680982  \n",
            "636  4.588910   7.074570  8.221797   7.074570  2.485660  2.294455  \n",
            "637  2.100840   8.823529  4.201681   4.201681  1.050420  3.361345  \n",
            "\n",
            "[638 rows x 20 columns]\n"
          ]
        }
      ]
    }
  ]
}